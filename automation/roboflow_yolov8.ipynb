{
 "cells": [
  {
   "cell_type": "code",
   "execution_count": null,
   "metadata": {
    "id": "Y8cDtxLIBHgQ",
    "colab": {
     "base_uri": "https://localhost:8080/"
    },
    "outputId": "3aa20101-c725-4c4e-ca76-0687ab16734c"
   },
   "outputs": [],
   "source": [
    "!nvidia-smi"
   ]
  },
  {
   "cell_type": "code",
   "execution_count": null,
   "metadata": {
    "id": "CjpPg4mGKc1v",
    "colab": {
     "base_uri": "https://localhost:8080/"
    },
    "outputId": "ff77d9d6-e863-41be-f7b8-a182c350bfad",
    "is_executing": true
   },
   "outputs": [],
   "source": [
    "import os\n",
    "\n",
    "HOME = os.getcwd()\n",
    "print(HOME)"
   ]
  },
  {
   "cell_type": "code",
   "execution_count": null,
   "metadata": {
    "id": "tdSMcABDNKW-",
    "colab": {
     "base_uri": "https://localhost:8080/"
    },
    "outputId": "0380de4e-243c-4bb6-9e85-14ff6d4e9a57"
   },
   "outputs": [],
   "source": [
    "!pip install onnx\n",
    "!pip install ultralytics==8.0.134"
   ]
  },
  {
   "cell_type": "markdown",
   "source": [
    "Paste roboflow snippet into here"
   ],
   "metadata": {
    "collapsed": false
   }
  },
  {
   "cell_type": "code",
   "source": [
    "# !pip install roboflow\n",
    "#\n",
    "# from roboflow import Roboflow\n",
    "# rf = Roboflow(api_key=\"APIKEY\")\n",
    "# project = rf.workspace(\"WORKSPACE\").project(\"PROJECT\")\n",
    "# dataset = project.version(1).download(\"yolov8\")"
   ],
   "metadata": {
    "id": "oaI2rzp4pppS",
    "colab": {
     "base_uri": "https://localhost:8080/",
     "height": 1000
    },
    "outputId": "10bdc289-e060-4eb0-974a-29d929f4cfae"
   },
   "execution_count": null,
   "outputs": []
  },
  {
   "cell_type": "code",
   "execution_count": null,
   "metadata": {
    "id": "BSd93ZJzZZKt",
    "colab": {
     "base_uri": "https://localhost:8080/"
    },
    "outputId": "5e307566-ecca-46ad-cdb6-22d9ca4b31b1"
   },
   "outputs": [],
   "source": [
    "%cd {HOME}\n",
    "\n",
    "from pathlib import Path\n",
    "\n",
    "from ultralytics import YOLO\n",
    "import shutil\n",
    "\n",
    "challenge_dir_name = \"animal-head-2310-1\"\n",
    "model = YOLO(\"yolov8s.pt\")\n",
    "output_model_name = \"animalhead2310_yolov8s.onnx\"\n",
    "\n",
    "# fit project\n",
    "datasets_yolo_dir = Path(f\"/content/{challenge_dir_name}\")\n",
    "dst = Path(f\"/content/datasets/{challenge_dir_name}\")\n",
    "if datasets_yolo_dir.exists():\n",
    "    shutil.move(datasets_yolo_dir, dst)\n",
    "\n",
    "# train\n",
    "data_path = dst.joinpath(\"data.yaml\")\n",
    "model.train(data=str(data_path), epochs=300, imgsz=640)\n",
    "\n",
    "# export to onnx\n",
    "YOLO(\"/content/runs/detect/train/weights/best.pt\").export(format=\"onnx\")\n",
    "shutil.copyfile(\"/content/runs/detect/train/weights/best.onnx\", f\"/content/{output_model_name}\")"
   ]
  }
 ],
 "metadata": {
  "accelerator": "GPU",
  "colab": {
   "provenance": []
  },
  "kernelspec": {
   "name": "python3",
   "language": "python",
   "display_name": "Python 3 (ipykernel)"
  },
  "language_info": {
   "name": "python"
  }
 },
 "nbformat": 4,
 "nbformat_minor": 0
}
